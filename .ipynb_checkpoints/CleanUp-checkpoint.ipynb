{
 "cells": [
  {
   "cell_type": "markdown",
   "metadata": {},
   "source": [
    "# Learn.co CleanUp\n",
    "\n",
    "There is two reasons to do this.\n",
    "\n",
    "**A)** You want a nice `github` repo where you can quickly look through all your lessons. Who doesn't want that?\n",
    "\n",
    "**B)** Your local file structure is a mess. You saved some stuff over here. You saved some stuff over there. Then you went in a new direction with a naming scheme.\n",
    "\n",
    "`git` has its own idea of nested file structure. It uses _**submodules**_ to reference different repos. The following code automates the process of adding all the lessons you have done to a single `github` repo. \n",
    "\n",
    "A side effect of adding a `submodule` to a repo is that `git` clones that file to your local machine again, creating a set of redundant files. Once you are done with this process, the choice is yours of what files you wish to keep locally. If you are inclined to keep the the organizational structure introduced here, feel free. Otherwise, just delete the recently cloned files.\n",
    "\n",
    "___"
   ]
  },
  {
   "cell_type": "markdown",
   "metadata": {},
   "source": [
    "## 1) First make a brand new repo where all this stuff will live.\n",
    "\n",
    "The first step is a new repo that will act as a table of contents for all of the Learn.co lessons.\n",
    "\n",
    "Log onto `git` and locate the <strong> + </strong> icon in the upper right corner.\n",
    "\n",
    "<img src = imgs/git_new_repo_click.png style=\"height: 400px; width:1400px; resize:both\">\n",
    "\n",
    "<br>\n",
    "\n",
    "Now title your repo as you wish. Make sure to check the `README` box before finalizing your choice.\n",
    "\n",
    "<img src = imgs/git_new_repo_page.png style=\"height:500px\">\n",
    "\n",
    "<br>\n",
    "\n",
    "Now clone this file to your machine.\n",
    "\n",
    "Finally, copy this notebook into this new repo. All the commands were written for this to be the case"
   ]
  },
  {
   "cell_type": "markdown",
   "metadata": {},
   "source": [
    "## 2) Download the HTML of Learn.co \n",
    "\n",
    "When logged in from main landing page of Learn.co, download the HTML of this page. Save this file in the repo we created during Step 1.\n",
    "\n",
    "<img src=imgs/html_save.png>\n",
    "\n",
    "<br>\n",
    "\n",
    "Congratulations, the hard work is done."
   ]
  },
  {
   "cell_type": "markdown",
   "metadata": {},
   "source": [
    "## 3) Run Some Cells"
   ]
  },
  {
   "cell_type": "code",
   "execution_count": 1,
   "metadata": {},
   "outputs": [],
   "source": [
    "from bs4 import BeautifulSoup\n",
    "import re"
   ]
  },
  {
   "cell_type": "code",
   "execution_count": 2,
   "metadata": {},
   "outputs": [],
   "source": [
    "with open('Learn - Data Science Career v1.1.html','r') as f:  #Make sure this file matches the name of HTML file you just saved.\n",
    "    html = f.read()\n",
    "soup = BeautifulSoup(html, \"html.parser\")"
   ]
  },
  {
   "cell_type": "code",
   "execution_count": 3,
   "metadata": {},
   "outputs": [],
   "source": [
    "chunk = str(soup('script',{'type' : 'text/javascript'}))\n",
    "#chunk"
   ]
  },
  {
   "cell_type": "markdown",
   "metadata": {},
   "source": [
    "The information we want is in a javascript block. Uncomment above to see what it is.  \n",
    "Instead of bringing in any more libraries, we will tackle this problem with our `regex` knowhow. "
   ]
  },
  {
   "cell_type": "markdown",
   "metadata": {},
   "source": [
    "### RegEx"
   ]
  },
  {
   "cell_type": "code",
   "execution_count": 4,
   "metadata": {},
   "outputs": [],
   "source": [
    "pattern = re.compile(r\"learn-co-curriculum/d.*?(?=\\\")\") #make a pattern object\n",
    "repo_names = pattern.findall(chunk)"
   ]
  },
  {
   "cell_type": "markdown",
   "metadata": {},
   "source": [
    "Uncomment the cell below to what we collected."
   ]
  },
  {
   "cell_type": "code",
   "execution_count": 10,
   "metadata": {},
   "outputs": [
    {
     "data": {
      "text/plain": [
       "['learn-co-curriculum/dsc-0-00-01',\n",
       " 'learn-co-curriculum/dsc-0-00-04-blogging',\n",
       " 'learn-co-curriculum/dsc-1-01-02-introduction-summary',\n",
       " 'learn-co-curriculum/dsc-1-01-03-problems-ds-can-solve',\n",
       " 'learn-co-curriculum/dsc-1-01-04-the-data-science-process',\n",
       " 'learn-co-curriculum/dsc-1-01-05-setting-up-environment',\n",
       " 'learn-co-curriculum/dsc-1-01-06-working-with-lessons-on-learn',\n",
       " 'learn-co-curriculum/dsc-1-01-07-working-with-lessons-on-learn-lab',\n",
       " 'learn-co-curriculum/dsc-1-01-08-your-first-data-science-codealong',\n",
       " 'learn-co-curriculum/dsc-1-01-09-variable-assignment']"
      ]
     },
     "execution_count": 10,
     "metadata": {},
     "output_type": "execute_result"
    }
   ],
   "source": [
    "#repo_names[:10]"
   ]
  },
  {
   "cell_type": "markdown",
   "metadata": {},
   "source": [
    "## Personalize the URLs"
   ]
  },
  {
   "cell_type": "code",
   "execution_count": 9,
   "metadata": {},
   "outputs": [],
   "source": [
    "cohort = 'online-ds-pt-100118' #Enter your cohort as a string\n",
    "github = 'https://github.com/Socjon/' #Enter your github URL. Be sure to include a trailing backslash"
   ]
  },
  {
   "cell_type": "code",
   "execution_count": 10,
   "metadata": {},
   "outputs": [],
   "source": [
    "mod_full_urls = {'mod_1': [],\n",
    "                 'mod_2': [],\n",
    "                 'mod_3': [],\n",
    "                 'mod_4': [],}\n",
    "\n",
    "for name in repo_names:\n",
    "    name = name.lstrip('learn-co-curriculum/')\n",
    "    \n",
    "    if name.startswith('dsc-1-') or name.startswith('dsc-00-') or name.startswith('dsc-01-'):\n",
    "        mod_full_urls['mod_1'].append(github + name + '-' + cohort)\n",
    "    \n",
    "    elif name.startswith('dsc-2-'):\n",
    "        mod_full_urls['mod_2'].append(github + name + '-' + cohort)\n",
    "        \n",
    "    elif name.startswith('dsc-3-'):\n",
    "        mod_full_urls['mod_3'].append(github + name + '-' + cohort)\n",
    "        \n",
    "    elif name.startswith('dsc-4-') or name.startswith(f'dsc-04-'):\n",
    "        mod_full_urls['mod_4'].append(github + name + '-' + cohort)"
   ]
  },
  {
   "cell_type": "markdown",
   "metadata": {},
   "source": [
    "# Mark and David\n",
    "\n",
    "The below is just a truncated list. I want to ensure this process works on other machines before I put work on other features.\n",
    "\n",
    "I have already set all the further iterations to go over this smaller list. I plan to divide the lessons section wise later on.\n",
    "\n",
    "Inspect the below output, make sure they look good."
   ]
  },
  {
   "cell_type": "code",
   "execution_count": 21,
   "metadata": {},
   "outputs": [
    {
     "data": {
      "text/plain": [
       "['https://github.com/Socjon/dsc-1-01-02-introduction-summary-online-ds-pt-100118',\n",
       " 'https://github.com/Socjon/dsc-1-01-03-problems-ds-can-solve-online-ds-pt-100118',\n",
       " 'https://github.com/Socjon/dsc-1-01-04-the-data-science-process-online-ds-pt-100118',\n",
       " 'https://github.com/Socjon/dsc-1-01-05-setting-up-environment-online-ds-pt-100118',\n",
       " 'https://github.com/Socjon/dsc-1-01-06-working-with-lessons-on-learn-online-ds-pt-100118',\n",
       " 'https://github.com/Socjon/dsc-1-01-07-working-with-lessons-on-learn-lab-online-ds-pt-100118',\n",
       " 'https://github.com/Socjon/dsc-1-01-08-your-first-data-science-codealong-online-ds-pt-100118',\n",
       " 'https://github.com/Socjon/dsc-1-01-09-variable-assignment-online-ds-pt-100118',\n",
       " 'https://github.com/Socjon/dsc-1-01-10-strings-online-ds-pt-100118',\n",
       " 'https://github.com/Socjon/dsc-1-01-11-strings-lab-online-ds-pt-100118']"
      ]
     },
     "execution_count": 21,
     "metadata": {},
     "output_type": "execute_result"
    }
   ],
   "source": [
    "trial = mod_full_urls['mod_1'][:10]\n",
    "trial"
   ]
  },
  {
   "cell_type": "markdown",
   "metadata": {},
   "source": [
    "# Interacting with the OS\n",
    "\n",
    "___\n",
    "___"
   ]
  },
  {
   "cell_type": "code",
   "execution_count": 22,
   "metadata": {},
   "outputs": [
    {
     "name": "stdout",
     "output_type": "stream",
     "text": [
      "'Module_1/dsc-1-01-02-introduction-summary-online-ds-pt-100118' already exists in the index\n",
      "\n",
      "Cloning into 'C:/Users/J/DS/Flatiron/Module_1/dsc-1-01-03-problems-ds-can-solve-online-ds-pt-100118'...\n",
      "remote: Repository not found.\n",
      "fatal: repository 'https://github.com/Socjon/dsc-1-01-03-problems-ds-can-solve-online-ds-pt-100118/' not found\n",
      "fatal: clone of 'https://github.com/Socjon/dsc-1-01-03-problems-ds-can-solve-online-ds-pt-100118' into submodule path 'C:/Users/J/DS/Flatiron/Module_1/dsc-1-01-03-problems-ds-can-solve-online-ds-pt-100118' failed\n",
      "\n",
      "'Module_1/dsc-1-01-04-the-data-science-process-online-ds-pt-100118' already exists in the index\n",
      "\n",
      "'Module_1/dsc-1-01-05-setting-up-environment-online-ds-pt-100118' already exists in the index\n",
      "\n",
      "'Module_1/dsc-1-01-06-working-with-lessons-on-learn-online-ds-pt-100118' already exists in the index\n",
      "\n",
      "'Module_1/dsc-1-01-07-working-with-lessons-on-learn-lab-online-ds-pt-100118' already exists in the index\n",
      "\n",
      "Cloning into 'C:/Users/J/DS/Flatiron/Module_1/dsc-1-01-08-your-first-data-science-codealong-online-ds-pt-100118'...\n",
      "remote: Repository not found.\n",
      "fatal: repository 'https://github.com/Socjon/dsc-1-01-08-your-first-data-science-codealong-online-ds-pt-100118/' not found\n",
      "fatal: clone of 'https://github.com/Socjon/dsc-1-01-08-your-first-data-science-codealong-online-ds-pt-100118' into submodule path 'C:/Users/J/DS/Flatiron/Module_1/dsc-1-01-08-your-first-data-science-codealong-online-ds-pt-100118' failed\n",
      "\n",
      "Cloning into 'C:/Users/J/DS/Flatiron/Module_1/dsc-1-01-09-variable-assignment-online-ds-pt-100118'...\n",
      "remote: Repository not found.\n",
      "fatal: repository 'https://github.com/Socjon/dsc-1-01-09-variable-assignment-online-ds-pt-100118/' not found\n",
      "fatal: clone of 'https://github.com/Socjon/dsc-1-01-09-variable-assignment-online-ds-pt-100118' into submodule path 'C:/Users/J/DS/Flatiron/Module_1/dsc-1-01-09-variable-assignment-online-ds-pt-100118' failed\n",
      "\n",
      "Cloning into 'C:/Users/J/DS/Flatiron/Module_1/dsc-1-01-10-strings-online-ds-pt-100118'...\n",
      "remote: Repository not found.\n",
      "fatal: repository 'https://github.com/Socjon/dsc-1-01-10-strings-online-ds-pt-100118/' not found\n",
      "fatal: clone of 'https://github.com/Socjon/dsc-1-01-10-strings-online-ds-pt-100118' into submodule path 'C:/Users/J/DS/Flatiron/Module_1/dsc-1-01-10-strings-online-ds-pt-100118' failed\n",
      "\n",
      "Cloning into 'C:/Users/J/DS/Flatiron/Module_1/dsc-1-01-11-strings-lab-online-ds-pt-100118'...\n",
      "remote: Repository not found.\n",
      "fatal: repository 'https://github.com/Socjon/dsc-1-01-11-strings-lab-online-ds-pt-100118/' not found\n",
      "fatal: clone of 'https://github.com/Socjon/dsc-1-01-11-strings-lab-online-ds-pt-100118' into submodule path 'C:/Users/J/DS/Flatiron/Module_1/dsc-1-01-11-strings-lab-online-ds-pt-100118' failed\n",
      "\n",
      "Go create the following\n",
      "['https://github.com/Socjon/dsc-1-01-03-problems-ds-can-solve-online-ds-pt-100118', 'https://github.com/Socjon/dsc-1-01-08-your-first-data-science-codealong-online-ds-pt-100118', 'https://github.com/Socjon/dsc-1-01-09-variable-assignment-online-ds-pt-100118', 'https://github.com/Socjon/dsc-1-01-10-strings-online-ds-pt-100118', 'https://github.com/Socjon/dsc-1-01-11-strings-lab-online-ds-pt-100118']\n"
     ]
    }
   ],
   "source": [
    "import subprocess, shlex\n",
    "\n",
    "to_fork = []\n",
    "mod_name = 'Module_1'                                           #Enter the Module you want to clean up first.\n",
    "mod_dict = mod_full_urls['mod_1']                               #Enter the correct key for the above module\n",
    "\n",
    "\n",
    "\n",
    "\n",
    "###!!!! THIS IS WHERE ISSUES MAY OCCUR DEPENDING ON OS TYPES!!!!\n",
    "### This is the main area of focus, making sure this block works\n",
    "### Thank you again for your help. Let me know if you run into issues\n",
    "\n",
    "\n",
    "subprocess.Popen(f'mkdir {mod_name}', shell=True)               #Don't use (shell=True) lightly\n",
    "                                                                #https://stackoverflow.com/questions/3172470/actual-meaning-of-shell-true-in-subprocess\n",
    "                                                                \n",
    "\n",
    "\n",
    "\n",
    "for url in trial:                                               ### trial list --needs to be updated when fully utlize\n",
    "    command = f'git submodule add {url}'                        #Iterate over the URL dictionary we created before and adds them as submodules.\n",
    "    kwargs = {}\n",
    "    kwargs['stdout'] = subprocess.PIPE\n",
    "    kwargs['stderr'] = subprocess.PIPE\n",
    "    proc = subprocess.Popen(shlex.split(command), **kwargs, cwd = f'{mod_name}')\n",
    "    (stdout_str, stderr_str) = proc.communicate()\n",
    "    return_code = proc.wait()\n",
    "    #print (stdout_str)\n",
    "    #print (stderr_str)\n",
    "\n",
    "\n",
    "    to_check = stderr_str.decode('utf-8')                     #Changing the terminal output from btye to str\n",
    "    print(to_check)                                           #Prints status updates --optional\n",
    "    pattern = 'fatal'                                         #Making a patter to loop through and find all the non exsistant URLs\n",
    "    if to_check.find(pattern) > 0:\n",
    "        to_fork.append(url)\n",
    "            \n",
    "commands = [\"git commit -m 'adding a submodule'\", \"git push\"]    #Pushing all the changes\n",
    "for command in commands:\n",
    "    subprocess.Popen(shlex.split(command))\n",
    "\n",
    "print('Go create the following')\n",
    "print(to_fork)"
   ]
  },
  {
   "cell_type": "markdown",
   "metadata": {},
   "source": [
    "## Helper Function\n",
    "After running the above cell, there may be some Learn lessons that you didn't fork: Section Recaps, Introductions, etc.  \n",
    "\n",
    "I have included a helper function to open all the URLS that need to be cloned before the above needs to be run again. Once they have been forked, just rerun the above cell to add them as `submodules`.\n",
    "   "
   ]
  },
  {
   "cell_type": "code",
   "execution_count": 23,
   "metadata": {},
   "outputs": [
    {
     "data": {
      "text/plain": [
       "['https://github.com/Socjon/dsc-1-01-03-problems-ds-can-solve-online-ds-pt-100118',\n",
       " 'https://github.com/Socjon/dsc-1-01-08-your-first-data-science-codealong-online-ds-pt-100118',\n",
       " 'https://github.com/Socjon/dsc-1-01-09-variable-assignment-online-ds-pt-100118',\n",
       " 'https://github.com/Socjon/dsc-1-01-10-strings-online-ds-pt-100118',\n",
       " 'https://github.com/Socjon/dsc-1-01-11-strings-lab-online-ds-pt-100118']"
      ]
     },
     "execution_count": 23,
     "metadata": {},
     "output_type": "execute_result"
    }
   ],
   "source": [
    "#to_fork"
   ]
  },
  {
   "cell_type": "code",
   "execution_count": 15,
   "metadata": {},
   "outputs": [],
   "source": [
    "import webbrowser \n",
    "learn = 'https://github.com/learn-co-students/'"
   ]
  },
  {
   "cell_type": "code",
   "execution_count": 24,
   "metadata": {},
   "outputs": [],
   "source": [
    "def let_there_be_tabs(url_list):\n",
    "    learn = 'https://github.com/learn-co-students/'\n",
    "    for url in url_list:\n",
    "        webbrowser.open(url.replace(github, learn))"
   ]
  },
  {
   "cell_type": "code",
   "execution_count": 25,
   "metadata": {},
   "outputs": [],
   "source": [
    "#let_there_be_links(to_fork)"
   ]
  }
 ],
 "metadata": {
  "kernelspec": {
   "display_name": "Python 3",
   "language": "python",
   "name": "python3"
  },
  "language_info": {
   "codemirror_mode": {
    "name": "ipython",
    "version": 3
   },
   "file_extension": ".py",
   "mimetype": "text/x-python",
   "name": "python",
   "nbconvert_exporter": "python",
   "pygments_lexer": "ipython3",
   "version": "3.6.7"
  }
 },
 "nbformat": 4,
 "nbformat_minor": 2
}
